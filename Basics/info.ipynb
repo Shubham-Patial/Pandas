{
 "cells": [
  {
   "cell_type": "markdown",
   "id": "51dcdf8e-de5b-4118-a8b9-932bbc10adfe",
   "metadata": {},
   "source": [
    "# Display Information of DataSet"
   ]
  },
  {
   "cell_type": "code",
   "execution_count": 2,
   "id": "a1a0f64e-db73-424f-9ea3-6975682c1190",
   "metadata": {},
   "outputs": [],
   "source": [
    "# Importing the pandas library, which is used for data analysis and manipulation\n",
    "import pandas as pd"
   ]
  },
  {
   "cell_type": "code",
   "execution_count": 4,
   "id": "4ae18ddb-e587-4ca8-aa28-64f36ecca0e4",
   "metadata": {},
   "outputs": [
    {
     "name": "stdout",
     "output_type": "stream",
     "text": [
      "Displaying the info of data set\n",
      "<class 'pandas.core.frame.DataFrame'>\n",
      "RangeIndex: 20 entries, 0 to 19\n",
      "Data columns (total 6 columns):\n",
      " #   Column       Non-Null Count  Dtype  \n",
      "---  ------       --------------  -----  \n",
      " 0   id           20 non-null     int64  \n",
      " 1   name         20 non-null     object \n",
      " 2   description  20 non-null     object \n",
      " 3   price        20 non-null     float64\n",
      " 4   category     20 non-null     object \n",
      " 5   image        20 non-null     object \n",
      "dtypes: float64(1), int64(1), object(4)\n",
      "memory usage: 1.1+ KB\n",
      "None\n"
     ]
    }
   ],
   "source": [
    "# Reading data from a JSON file named \"sample_Data.json\" and loading it into a DataFrame\n",
    "df = pd.read_json(\"sample_Data.json\")\n",
    "\n",
    "# Printing a message to explain what’s coming next\n",
    "print(\"Displaying the info of data set\")\n",
    "\n",
    "# Displaying summary information about the DataFrame\n",
    "# This includes the number of entries (rows), column names, data types, and memory usage\n",
    "print(df.info())\n"
   ]
  },
  {
   "cell_type": "raw",
   "id": "6908ae36-47ce-4ea4-acc9-73273e09a077",
   "metadata": {},
   "source": [
    "Insides:-\n",
    "\n",
    "Non-null values means the data set has no empty cell in those columns and rows and int64 is for integer data type, float64 is \n",
    "for float data type and object is for any string type data type."
   ]
  },
  {
   "cell_type": "code",
   "execution_count": null,
   "id": "46b14848-c6a8-4a1a-b672-efbbc3bd14b2",
   "metadata": {},
   "outputs": [],
   "source": []
  }
 ],
 "metadata": {
  "kernelspec": {
   "display_name": "Python [conda env:base] *",
   "language": "python",
   "name": "conda-base-py"
  },
  "language_info": {
   "codemirror_mode": {
    "name": "ipython",
    "version": 3
   },
   "file_extension": ".py",
   "mimetype": "text/x-python",
   "name": "python",
   "nbconvert_exporter": "python",
   "pygments_lexer": "ipython3",
   "version": "3.12.7"
  }
 },
 "nbformat": 4,
 "nbformat_minor": 5
}
